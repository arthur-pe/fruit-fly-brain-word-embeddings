{
 "cells": [
  {
   "cell_type": "code",
   "execution_count": 104,
   "metadata": {},
   "outputs": [],
   "source": [
    "from scipy.sparse import csr_matrix\n",
    "import pandas as pd\n",
    "import numpy as np\n",
    "import re\n",
    "from tqdm import tqdm"
   ]
  },
  {
   "cell_type": "code",
   "execution_count": 85,
   "metadata": {},
   "outputs": [],
   "source": [
    "data = pd.read_csv(\"./save_massina_projet/vectors/vectorized_data_10_102.csv\", header=None)"
   ]
  },
  {
   "cell_type": "code",
   "execution_count": 98,
   "metadata": {},
   "outputs": [],
   "source": [
    "def to_dense(x, length=40000, sparse= False):\n",
    "    try :\n",
    "        vect= np.zeros(length, dtype=bool)\n",
    "        ones= x.split('\\n')\n",
    "        for one in ones : \n",
    "            pos= one.split('\\t')[0]\n",
    "            position = re.findall(r'\\(0,(.*)\\)',pos,re.DOTALL)\n",
    "            position = int(position[0])\n",
    "            vect[position]=True\n",
    "        if sparse:\n",
    "            vect=csr_matrix(vect)\n",
    "        return vect\n",
    "    except AttributeError:\n",
    "        vect= np.zeros(length, dtype=bool)\n",
    "        if sparse:\n",
    "            vect=csr_matrix(vect)\n",
    "        return vect"
   ]
  },
  {
   "cell_type": "code",
   "execution_count": 99,
   "metadata": {},
   "outputs": [],
   "source": [
    "s = to_dense(data[0][0], sparse=True)"
   ]
  },
  {
   "cell_type": "code",
   "execution_count": 88,
   "metadata": {},
   "outputs": [
    {
     "data": {
      "text/plain": [
       "matrix([[False, False, False, ..., False, False, False]])"
      ]
     },
     "execution_count": 88,
     "metadata": {},
     "output_type": "execute_result"
    }
   ],
   "source": [
    "s.todense()"
   ]
  },
  {
   "cell_type": "code",
   "execution_count": null,
   "metadata": {},
   "outputs": [
    {
     "name": "stderr",
     "output_type": "stream",
     "text": [
      " 64%|██████▍   | 1207747/1881371 [03:49<10:11, 1101.00it/s]"
     ]
    }
   ],
   "source": [
    "tqdm.pandas()\n",
    "new_data = data[0].progress_apply(lambda x : to_dense(x, sparse=False))"
   ]
  },
  {
   "cell_type": "code",
   "execution_count": null,
   "metadata": {},
   "outputs": [],
   "source": []
  }
 ],
 "metadata": {
  "kernelspec": {
   "display_name": "Python 3",
   "language": "python",
   "name": "python3"
  },
  "language_info": {
   "codemirror_mode": {
    "name": "ipython",
    "version": 3
   },
   "file_extension": ".py",
   "mimetype": "text/x-python",
   "name": "python",
   "nbconvert_exporter": "python",
   "pygments_lexer": "ipython3",
   "version": "3.7.3"
  }
 },
 "nbformat": 4,
 "nbformat_minor": 4
}
